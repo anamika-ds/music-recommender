{
  "nbformat": 4,
  "nbformat_minor": 0,
  "metadata": {
    "colab": {
      "provenance": [],
      "mount_file_id": "1B-fz_90ROWrYBCQZw4wnlB0ohx2NbxsV",
      "authorship_tag": "ABX9TyNICmonq6n4ez8519B0LVxV",
      "include_colab_link": true
    },
    "kernelspec": {
      "name": "python3",
      "display_name": "Python 3"
    },
    "language_info": {
      "name": "python"
    }
  },
  "cells": [
    {
      "cell_type": "markdown",
      "metadata": {
        "id": "view-in-github",
        "colab_type": "text"
      },
      "source": [
        "<a href=\"https://colab.research.google.com/github/anamika-ds/music-recommender/blob/main/Music_recommender.ipynb\" target=\"_parent\"><img src=\"https://colab.research.google.com/assets/colab-badge.svg\" alt=\"Open In Colab\"/></a>"
      ]
    },
    {
      "cell_type": "markdown",
      "source": [
        "#🎵 **Music recommender system**"
      ],
      "metadata": {
        "id": "kP5b2t71z-5H"
      }
    },
    {
      "cell_type": "markdown",
      "source": [
        "## 📜 **Problem Statement**\n",
        "\n",
        "\n"
      ],
      "metadata": {
        "id": "5d5T-RREAaEm"
      }
    },
    {
      "cell_type": "markdown",
      "source": [
        "Let's consider we have an online music store. When our users sign up, we ask their age and gender, and based on their profile we recommend various music albums they're likely to buy. So in this project, we want to use machine learning to increase the sales. Thus, we build a ML model. We feed this model with some sample data. Based on the existing users our model will learn the patterns in our data so we can ask it to make predictions when a user signs up we tell our model."
      ],
      "metadata": {
        "id": "i_xaDtZK-y11"
      }
    },
    {
      "cell_type": "markdown",
      "source": [
        "## Solution"
      ],
      "metadata": {
        "id": "EHus-WdBiFzf"
      }
    },
    {
      "cell_type": "markdown",
      "source": [
        "#### Importing data"
      ],
      "metadata": {
        "id": "m6Jw1w10Ad5V"
      }
    },
    {
      "cell_type": "code",
      "source": [
        "from google.colab import files\n",
        "uploaded = files.upload()"
      ],
      "metadata": {
        "id": "b5bTSscBBF7c",
        "colab": {
          "base_uri": "https://localhost:8080/",
          "height": 73
        },
        "outputId": "8e62693e-474a-458d-f62c-ec70b6ded024"
      },
      "execution_count": 1,
      "outputs": [
        {
          "output_type": "display_data",
          "data": {
            "text/plain": [
              "<IPython.core.display.HTML object>"
            ],
            "text/html": [
              "\n",
              "     <input type=\"file\" id=\"files-2762751f-fd01-4aba-9804-b9dfd20fb6f4\" name=\"files[]\" multiple disabled\n",
              "        style=\"border:none\" />\n",
              "     <output id=\"result-2762751f-fd01-4aba-9804-b9dfd20fb6f4\">\n",
              "      Upload widget is only available when the cell has been executed in the\n",
              "      current browser session. Please rerun this cell to enable.\n",
              "      </output>\n",
              "      <script>// Copyright 2017 Google LLC\n",
              "//\n",
              "// Licensed under the Apache License, Version 2.0 (the \"License\");\n",
              "// you may not use this file except in compliance with the License.\n",
              "// You may obtain a copy of the License at\n",
              "//\n",
              "//      http://www.apache.org/licenses/LICENSE-2.0\n",
              "//\n",
              "// Unless required by applicable law or agreed to in writing, software\n",
              "// distributed under the License is distributed on an \"AS IS\" BASIS,\n",
              "// WITHOUT WARRANTIES OR CONDITIONS OF ANY KIND, either express or implied.\n",
              "// See the License for the specific language governing permissions and\n",
              "// limitations under the License.\n",
              "\n",
              "/**\n",
              " * @fileoverview Helpers for google.colab Python module.\n",
              " */\n",
              "(function(scope) {\n",
              "function span(text, styleAttributes = {}) {\n",
              "  const element = document.createElement('span');\n",
              "  element.textContent = text;\n",
              "  for (const key of Object.keys(styleAttributes)) {\n",
              "    element.style[key] = styleAttributes[key];\n",
              "  }\n",
              "  return element;\n",
              "}\n",
              "\n",
              "// Max number of bytes which will be uploaded at a time.\n",
              "const MAX_PAYLOAD_SIZE = 100 * 1024;\n",
              "\n",
              "function _uploadFiles(inputId, outputId) {\n",
              "  const steps = uploadFilesStep(inputId, outputId);\n",
              "  const outputElement = document.getElementById(outputId);\n",
              "  // Cache steps on the outputElement to make it available for the next call\n",
              "  // to uploadFilesContinue from Python.\n",
              "  outputElement.steps = steps;\n",
              "\n",
              "  return _uploadFilesContinue(outputId);\n",
              "}\n",
              "\n",
              "// This is roughly an async generator (not supported in the browser yet),\n",
              "// where there are multiple asynchronous steps and the Python side is going\n",
              "// to poll for completion of each step.\n",
              "// This uses a Promise to block the python side on completion of each step,\n",
              "// then passes the result of the previous step as the input to the next step.\n",
              "function _uploadFilesContinue(outputId) {\n",
              "  const outputElement = document.getElementById(outputId);\n",
              "  const steps = outputElement.steps;\n",
              "\n",
              "  const next = steps.next(outputElement.lastPromiseValue);\n",
              "  return Promise.resolve(next.value.promise).then((value) => {\n",
              "    // Cache the last promise value to make it available to the next\n",
              "    // step of the generator.\n",
              "    outputElement.lastPromiseValue = value;\n",
              "    return next.value.response;\n",
              "  });\n",
              "}\n",
              "\n",
              "/**\n",
              " * Generator function which is called between each async step of the upload\n",
              " * process.\n",
              " * @param {string} inputId Element ID of the input file picker element.\n",
              " * @param {string} outputId Element ID of the output display.\n",
              " * @return {!Iterable<!Object>} Iterable of next steps.\n",
              " */\n",
              "function* uploadFilesStep(inputId, outputId) {\n",
              "  const inputElement = document.getElementById(inputId);\n",
              "  inputElement.disabled = false;\n",
              "\n",
              "  const outputElement = document.getElementById(outputId);\n",
              "  outputElement.innerHTML = '';\n",
              "\n",
              "  const pickedPromise = new Promise((resolve) => {\n",
              "    inputElement.addEventListener('change', (e) => {\n",
              "      resolve(e.target.files);\n",
              "    });\n",
              "  });\n",
              "\n",
              "  const cancel = document.createElement('button');\n",
              "  inputElement.parentElement.appendChild(cancel);\n",
              "  cancel.textContent = 'Cancel upload';\n",
              "  const cancelPromise = new Promise((resolve) => {\n",
              "    cancel.onclick = () => {\n",
              "      resolve(null);\n",
              "    };\n",
              "  });\n",
              "\n",
              "  // Wait for the user to pick the files.\n",
              "  const files = yield {\n",
              "    promise: Promise.race([pickedPromise, cancelPromise]),\n",
              "    response: {\n",
              "      action: 'starting',\n",
              "    }\n",
              "  };\n",
              "\n",
              "  cancel.remove();\n",
              "\n",
              "  // Disable the input element since further picks are not allowed.\n",
              "  inputElement.disabled = true;\n",
              "\n",
              "  if (!files) {\n",
              "    return {\n",
              "      response: {\n",
              "        action: 'complete',\n",
              "      }\n",
              "    };\n",
              "  }\n",
              "\n",
              "  for (const file of files) {\n",
              "    const li = document.createElement('li');\n",
              "    li.append(span(file.name, {fontWeight: 'bold'}));\n",
              "    li.append(span(\n",
              "        `(${file.type || 'n/a'}) - ${file.size} bytes, ` +\n",
              "        `last modified: ${\n",
              "            file.lastModifiedDate ? file.lastModifiedDate.toLocaleDateString() :\n",
              "                                    'n/a'} - `));\n",
              "    const percent = span('0% done');\n",
              "    li.appendChild(percent);\n",
              "\n",
              "    outputElement.appendChild(li);\n",
              "\n",
              "    const fileDataPromise = new Promise((resolve) => {\n",
              "      const reader = new FileReader();\n",
              "      reader.onload = (e) => {\n",
              "        resolve(e.target.result);\n",
              "      };\n",
              "      reader.readAsArrayBuffer(file);\n",
              "    });\n",
              "    // Wait for the data to be ready.\n",
              "    let fileData = yield {\n",
              "      promise: fileDataPromise,\n",
              "      response: {\n",
              "        action: 'continue',\n",
              "      }\n",
              "    };\n",
              "\n",
              "    // Use a chunked sending to avoid message size limits. See b/62115660.\n",
              "    let position = 0;\n",
              "    do {\n",
              "      const length = Math.min(fileData.byteLength - position, MAX_PAYLOAD_SIZE);\n",
              "      const chunk = new Uint8Array(fileData, position, length);\n",
              "      position += length;\n",
              "\n",
              "      const base64 = btoa(String.fromCharCode.apply(null, chunk));\n",
              "      yield {\n",
              "        response: {\n",
              "          action: 'append',\n",
              "          file: file.name,\n",
              "          data: base64,\n",
              "        },\n",
              "      };\n",
              "\n",
              "      let percentDone = fileData.byteLength === 0 ?\n",
              "          100 :\n",
              "          Math.round((position / fileData.byteLength) * 100);\n",
              "      percent.textContent = `${percentDone}% done`;\n",
              "\n",
              "    } while (position < fileData.byteLength);\n",
              "  }\n",
              "\n",
              "  // All done.\n",
              "  yield {\n",
              "    response: {\n",
              "      action: 'complete',\n",
              "    }\n",
              "  };\n",
              "}\n",
              "\n",
              "scope.google = scope.google || {};\n",
              "scope.google.colab = scope.google.colab || {};\n",
              "scope.google.colab._files = {\n",
              "  _uploadFiles,\n",
              "  _uploadFilesContinue,\n",
              "};\n",
              "})(self);\n",
              "</script> "
            ]
          },
          "metadata": {}
        },
        {
          "output_type": "stream",
          "name": "stdout",
          "text": [
            "Saving music.csv to music.csv\n"
          ]
        }
      ]
    },
    {
      "cell_type": "code",
      "source": [
        "import pandas as pd\n",
        "music_data = pd.read_csv('music.csv')\n",
        "music_data"
      ],
      "metadata": {
        "colab": {
          "base_uri": "https://localhost:8080/",
          "height": 613
        },
        "id": "8NSPa2cpBhS0",
        "outputId": "5ab74378-4f32-41af-ca6f-f97ba1ac5c49"
      },
      "execution_count": 2,
      "outputs": [
        {
          "output_type": "execute_result",
          "data": {
            "text/plain": [
              "    age  gender      genre\n",
              "0    20       1     HipHop\n",
              "1    23       1     HipHop\n",
              "2    25       1     HipHop\n",
              "3    26       1       Jazz\n",
              "4    29       1       Jazz\n",
              "5    30       1       Jazz\n",
              "6    31       1  Classical\n",
              "7    33       1  Classical\n",
              "8    37       1  Classical\n",
              "9    20       0      Dance\n",
              "10   21       0      Dance\n",
              "11   25       0      Dance\n",
              "12   26       0   Acoustic\n",
              "13   27       0   Acoustic\n",
              "14   30       0   Acoustic\n",
              "15   31       0  Classical\n",
              "16   34       0  Classical\n",
              "17   35       0  Classical"
            ],
            "text/html": [
              "\n",
              "  <div id=\"df-a3cfe76a-714c-4439-bde4-809e16e544f6\" class=\"colab-df-container\">\n",
              "    <div>\n",
              "<style scoped>\n",
              "    .dataframe tbody tr th:only-of-type {\n",
              "        vertical-align: middle;\n",
              "    }\n",
              "\n",
              "    .dataframe tbody tr th {\n",
              "        vertical-align: top;\n",
              "    }\n",
              "\n",
              "    .dataframe thead th {\n",
              "        text-align: right;\n",
              "    }\n",
              "</style>\n",
              "<table border=\"1\" class=\"dataframe\">\n",
              "  <thead>\n",
              "    <tr style=\"text-align: right;\">\n",
              "      <th></th>\n",
              "      <th>age</th>\n",
              "      <th>gender</th>\n",
              "      <th>genre</th>\n",
              "    </tr>\n",
              "  </thead>\n",
              "  <tbody>\n",
              "    <tr>\n",
              "      <th>0</th>\n",
              "      <td>20</td>\n",
              "      <td>1</td>\n",
              "      <td>HipHop</td>\n",
              "    </tr>\n",
              "    <tr>\n",
              "      <th>1</th>\n",
              "      <td>23</td>\n",
              "      <td>1</td>\n",
              "      <td>HipHop</td>\n",
              "    </tr>\n",
              "    <tr>\n",
              "      <th>2</th>\n",
              "      <td>25</td>\n",
              "      <td>1</td>\n",
              "      <td>HipHop</td>\n",
              "    </tr>\n",
              "    <tr>\n",
              "      <th>3</th>\n",
              "      <td>26</td>\n",
              "      <td>1</td>\n",
              "      <td>Jazz</td>\n",
              "    </tr>\n",
              "    <tr>\n",
              "      <th>4</th>\n",
              "      <td>29</td>\n",
              "      <td>1</td>\n",
              "      <td>Jazz</td>\n",
              "    </tr>\n",
              "    <tr>\n",
              "      <th>5</th>\n",
              "      <td>30</td>\n",
              "      <td>1</td>\n",
              "      <td>Jazz</td>\n",
              "    </tr>\n",
              "    <tr>\n",
              "      <th>6</th>\n",
              "      <td>31</td>\n",
              "      <td>1</td>\n",
              "      <td>Classical</td>\n",
              "    </tr>\n",
              "    <tr>\n",
              "      <th>7</th>\n",
              "      <td>33</td>\n",
              "      <td>1</td>\n",
              "      <td>Classical</td>\n",
              "    </tr>\n",
              "    <tr>\n",
              "      <th>8</th>\n",
              "      <td>37</td>\n",
              "      <td>1</td>\n",
              "      <td>Classical</td>\n",
              "    </tr>\n",
              "    <tr>\n",
              "      <th>9</th>\n",
              "      <td>20</td>\n",
              "      <td>0</td>\n",
              "      <td>Dance</td>\n",
              "    </tr>\n",
              "    <tr>\n",
              "      <th>10</th>\n",
              "      <td>21</td>\n",
              "      <td>0</td>\n",
              "      <td>Dance</td>\n",
              "    </tr>\n",
              "    <tr>\n",
              "      <th>11</th>\n",
              "      <td>25</td>\n",
              "      <td>0</td>\n",
              "      <td>Dance</td>\n",
              "    </tr>\n",
              "    <tr>\n",
              "      <th>12</th>\n",
              "      <td>26</td>\n",
              "      <td>0</td>\n",
              "      <td>Acoustic</td>\n",
              "    </tr>\n",
              "    <tr>\n",
              "      <th>13</th>\n",
              "      <td>27</td>\n",
              "      <td>0</td>\n",
              "      <td>Acoustic</td>\n",
              "    </tr>\n",
              "    <tr>\n",
              "      <th>14</th>\n",
              "      <td>30</td>\n",
              "      <td>0</td>\n",
              "      <td>Acoustic</td>\n",
              "    </tr>\n",
              "    <tr>\n",
              "      <th>15</th>\n",
              "      <td>31</td>\n",
              "      <td>0</td>\n",
              "      <td>Classical</td>\n",
              "    </tr>\n",
              "    <tr>\n",
              "      <th>16</th>\n",
              "      <td>34</td>\n",
              "      <td>0</td>\n",
              "      <td>Classical</td>\n",
              "    </tr>\n",
              "    <tr>\n",
              "      <th>17</th>\n",
              "      <td>35</td>\n",
              "      <td>0</td>\n",
              "      <td>Classical</td>\n",
              "    </tr>\n",
              "  </tbody>\n",
              "</table>\n",
              "</div>\n",
              "    <div class=\"colab-df-buttons\">\n",
              "\n",
              "  <div class=\"colab-df-container\">\n",
              "    <button class=\"colab-df-convert\" onclick=\"convertToInteractive('df-a3cfe76a-714c-4439-bde4-809e16e544f6')\"\n",
              "            title=\"Convert this dataframe to an interactive table.\"\n",
              "            style=\"display:none;\">\n",
              "\n",
              "  <svg xmlns=\"http://www.w3.org/2000/svg\" height=\"24px\" viewBox=\"0 -960 960 960\">\n",
              "    <path d=\"M120-120v-720h720v720H120Zm60-500h600v-160H180v160Zm220 220h160v-160H400v160Zm0 220h160v-160H400v160ZM180-400h160v-160H180v160Zm440 0h160v-160H620v160ZM180-180h160v-160H180v160Zm440 0h160v-160H620v160Z\"/>\n",
              "  </svg>\n",
              "    </button>\n",
              "\n",
              "  <style>\n",
              "    .colab-df-container {\n",
              "      display:flex;\n",
              "      gap: 12px;\n",
              "    }\n",
              "\n",
              "    .colab-df-convert {\n",
              "      background-color: #E8F0FE;\n",
              "      border: none;\n",
              "      border-radius: 50%;\n",
              "      cursor: pointer;\n",
              "      display: none;\n",
              "      fill: #1967D2;\n",
              "      height: 32px;\n",
              "      padding: 0 0 0 0;\n",
              "      width: 32px;\n",
              "    }\n",
              "\n",
              "    .colab-df-convert:hover {\n",
              "      background-color: #E2EBFA;\n",
              "      box-shadow: 0px 1px 2px rgba(60, 64, 67, 0.3), 0px 1px 3px 1px rgba(60, 64, 67, 0.15);\n",
              "      fill: #174EA6;\n",
              "    }\n",
              "\n",
              "    .colab-df-buttons div {\n",
              "      margin-bottom: 4px;\n",
              "    }\n",
              "\n",
              "    [theme=dark] .colab-df-convert {\n",
              "      background-color: #3B4455;\n",
              "      fill: #D2E3FC;\n",
              "    }\n",
              "\n",
              "    [theme=dark] .colab-df-convert:hover {\n",
              "      background-color: #434B5C;\n",
              "      box-shadow: 0px 1px 3px 1px rgba(0, 0, 0, 0.15);\n",
              "      filter: drop-shadow(0px 1px 2px rgba(0, 0, 0, 0.3));\n",
              "      fill: #FFFFFF;\n",
              "    }\n",
              "  </style>\n",
              "\n",
              "    <script>\n",
              "      const buttonEl =\n",
              "        document.querySelector('#df-a3cfe76a-714c-4439-bde4-809e16e544f6 button.colab-df-convert');\n",
              "      buttonEl.style.display =\n",
              "        google.colab.kernel.accessAllowed ? 'block' : 'none';\n",
              "\n",
              "      async function convertToInteractive(key) {\n",
              "        const element = document.querySelector('#df-a3cfe76a-714c-4439-bde4-809e16e544f6');\n",
              "        const dataTable =\n",
              "          await google.colab.kernel.invokeFunction('convertToInteractive',\n",
              "                                                    [key], {});\n",
              "        if (!dataTable) return;\n",
              "\n",
              "        const docLinkHtml = 'Like what you see? Visit the ' +\n",
              "          '<a target=\"_blank\" href=https://colab.research.google.com/notebooks/data_table.ipynb>data table notebook</a>'\n",
              "          + ' to learn more about interactive tables.';\n",
              "        element.innerHTML = '';\n",
              "        dataTable['output_type'] = 'display_data';\n",
              "        await google.colab.output.renderOutput(dataTable, element);\n",
              "        const docLink = document.createElement('div');\n",
              "        docLink.innerHTML = docLinkHtml;\n",
              "        element.appendChild(docLink);\n",
              "      }\n",
              "    </script>\n",
              "  </div>\n",
              "\n",
              "\n",
              "<div id=\"df-f31d6562-3a7c-4a46-b963-5471e1127549\">\n",
              "  <button class=\"colab-df-quickchart\" onclick=\"quickchart('df-f31d6562-3a7c-4a46-b963-5471e1127549')\"\n",
              "            title=\"Suggest charts\"\n",
              "            style=\"display:none;\">\n",
              "\n",
              "<svg xmlns=\"http://www.w3.org/2000/svg\" height=\"24px\"viewBox=\"0 0 24 24\"\n",
              "     width=\"24px\">\n",
              "    <g>\n",
              "        <path d=\"M19 3H5c-1.1 0-2 .9-2 2v14c0 1.1.9 2 2 2h14c1.1 0 2-.9 2-2V5c0-1.1-.9-2-2-2zM9 17H7v-7h2v7zm4 0h-2V7h2v10zm4 0h-2v-4h2v4z\"/>\n",
              "    </g>\n",
              "</svg>\n",
              "  </button>\n",
              "\n",
              "<style>\n",
              "  .colab-df-quickchart {\n",
              "      --bg-color: #E8F0FE;\n",
              "      --fill-color: #1967D2;\n",
              "      --hover-bg-color: #E2EBFA;\n",
              "      --hover-fill-color: #174EA6;\n",
              "      --disabled-fill-color: #AAA;\n",
              "      --disabled-bg-color: #DDD;\n",
              "  }\n",
              "\n",
              "  [theme=dark] .colab-df-quickchart {\n",
              "      --bg-color: #3B4455;\n",
              "      --fill-color: #D2E3FC;\n",
              "      --hover-bg-color: #434B5C;\n",
              "      --hover-fill-color: #FFFFFF;\n",
              "      --disabled-bg-color: #3B4455;\n",
              "      --disabled-fill-color: #666;\n",
              "  }\n",
              "\n",
              "  .colab-df-quickchart {\n",
              "    background-color: var(--bg-color);\n",
              "    border: none;\n",
              "    border-radius: 50%;\n",
              "    cursor: pointer;\n",
              "    display: none;\n",
              "    fill: var(--fill-color);\n",
              "    height: 32px;\n",
              "    padding: 0;\n",
              "    width: 32px;\n",
              "  }\n",
              "\n",
              "  .colab-df-quickchart:hover {\n",
              "    background-color: var(--hover-bg-color);\n",
              "    box-shadow: 0 1px 2px rgba(60, 64, 67, 0.3), 0 1px 3px 1px rgba(60, 64, 67, 0.15);\n",
              "    fill: var(--button-hover-fill-color);\n",
              "  }\n",
              "\n",
              "  .colab-df-quickchart-complete:disabled,\n",
              "  .colab-df-quickchart-complete:disabled:hover {\n",
              "    background-color: var(--disabled-bg-color);\n",
              "    fill: var(--disabled-fill-color);\n",
              "    box-shadow: none;\n",
              "  }\n",
              "\n",
              "  .colab-df-spinner {\n",
              "    border: 2px solid var(--fill-color);\n",
              "    border-color: transparent;\n",
              "    border-bottom-color: var(--fill-color);\n",
              "    animation:\n",
              "      spin 1s steps(1) infinite;\n",
              "  }\n",
              "\n",
              "  @keyframes spin {\n",
              "    0% {\n",
              "      border-color: transparent;\n",
              "      border-bottom-color: var(--fill-color);\n",
              "      border-left-color: var(--fill-color);\n",
              "    }\n",
              "    20% {\n",
              "      border-color: transparent;\n",
              "      border-left-color: var(--fill-color);\n",
              "      border-top-color: var(--fill-color);\n",
              "    }\n",
              "    30% {\n",
              "      border-color: transparent;\n",
              "      border-left-color: var(--fill-color);\n",
              "      border-top-color: var(--fill-color);\n",
              "      border-right-color: var(--fill-color);\n",
              "    }\n",
              "    40% {\n",
              "      border-color: transparent;\n",
              "      border-right-color: var(--fill-color);\n",
              "      border-top-color: var(--fill-color);\n",
              "    }\n",
              "    60% {\n",
              "      border-color: transparent;\n",
              "      border-right-color: var(--fill-color);\n",
              "    }\n",
              "    80% {\n",
              "      border-color: transparent;\n",
              "      border-right-color: var(--fill-color);\n",
              "      border-bottom-color: var(--fill-color);\n",
              "    }\n",
              "    90% {\n",
              "      border-color: transparent;\n",
              "      border-bottom-color: var(--fill-color);\n",
              "    }\n",
              "  }\n",
              "</style>\n",
              "\n",
              "  <script>\n",
              "    async function quickchart(key) {\n",
              "      const quickchartButtonEl =\n",
              "        document.querySelector('#' + key + ' button');\n",
              "      quickchartButtonEl.disabled = true;  // To prevent multiple clicks.\n",
              "      quickchartButtonEl.classList.add('colab-df-spinner');\n",
              "      try {\n",
              "        const charts = await google.colab.kernel.invokeFunction(\n",
              "            'suggestCharts', [key], {});\n",
              "      } catch (error) {\n",
              "        console.error('Error during call to suggestCharts:', error);\n",
              "      }\n",
              "      quickchartButtonEl.classList.remove('colab-df-spinner');\n",
              "      quickchartButtonEl.classList.add('colab-df-quickchart-complete');\n",
              "    }\n",
              "    (() => {\n",
              "      let quickchartButtonEl =\n",
              "        document.querySelector('#df-f31d6562-3a7c-4a46-b963-5471e1127549 button');\n",
              "      quickchartButtonEl.style.display =\n",
              "        google.colab.kernel.accessAllowed ? 'block' : 'none';\n",
              "    })();\n",
              "  </script>\n",
              "</div>\n",
              "\n",
              "  <div id=\"id_894f97c6-53c7-4ee3-b4ab-7102db346b54\">\n",
              "    <style>\n",
              "      .colab-df-generate {\n",
              "        background-color: #E8F0FE;\n",
              "        border: none;\n",
              "        border-radius: 50%;\n",
              "        cursor: pointer;\n",
              "        display: none;\n",
              "        fill: #1967D2;\n",
              "        height: 32px;\n",
              "        padding: 0 0 0 0;\n",
              "        width: 32px;\n",
              "      }\n",
              "\n",
              "      .colab-df-generate:hover {\n",
              "        background-color: #E2EBFA;\n",
              "        box-shadow: 0px 1px 2px rgba(60, 64, 67, 0.3), 0px 1px 3px 1px rgba(60, 64, 67, 0.15);\n",
              "        fill: #174EA6;\n",
              "      }\n",
              "\n",
              "      [theme=dark] .colab-df-generate {\n",
              "        background-color: #3B4455;\n",
              "        fill: #D2E3FC;\n",
              "      }\n",
              "\n",
              "      [theme=dark] .colab-df-generate:hover {\n",
              "        background-color: #434B5C;\n",
              "        box-shadow: 0px 1px 3px 1px rgba(0, 0, 0, 0.15);\n",
              "        filter: drop-shadow(0px 1px 2px rgba(0, 0, 0, 0.3));\n",
              "        fill: #FFFFFF;\n",
              "      }\n",
              "    </style>\n",
              "    <button class=\"colab-df-generate\" onclick=\"generateWithVariable('music_data')\"\n",
              "            title=\"Generate code using this dataframe.\"\n",
              "            style=\"display:none;\">\n",
              "\n",
              "  <svg xmlns=\"http://www.w3.org/2000/svg\" height=\"24px\"viewBox=\"0 0 24 24\"\n",
              "       width=\"24px\">\n",
              "    <path d=\"M7,19H8.4L18.45,9,17,7.55,7,17.6ZM5,21V16.75L18.45,3.32a2,2,0,0,1,2.83,0l1.4,1.43a1.91,1.91,0,0,1,.58,1.4,1.91,1.91,0,0,1-.58,1.4L9.25,21ZM18.45,9,17,7.55Zm-12,3A5.31,5.31,0,0,0,4.9,8.1,5.31,5.31,0,0,0,1,6.5,5.31,5.31,0,0,0,4.9,4.9,5.31,5.31,0,0,0,6.5,1,5.31,5.31,0,0,0,8.1,4.9,5.31,5.31,0,0,0,12,6.5,5.46,5.46,0,0,0,6.5,12Z\"/>\n",
              "  </svg>\n",
              "    </button>\n",
              "    <script>\n",
              "      (() => {\n",
              "      const buttonEl =\n",
              "        document.querySelector('#id_894f97c6-53c7-4ee3-b4ab-7102db346b54 button.colab-df-generate');\n",
              "      buttonEl.style.display =\n",
              "        google.colab.kernel.accessAllowed ? 'block' : 'none';\n",
              "\n",
              "      buttonEl.onclick = () => {\n",
              "        google.colab.notebook.generateWithVariable('music_data');\n",
              "      }\n",
              "      })();\n",
              "    </script>\n",
              "  </div>\n",
              "\n",
              "    </div>\n",
              "  </div>\n"
            ],
            "application/vnd.google.colaboratory.intrinsic+json": {
              "type": "dataframe",
              "variable_name": "music_data",
              "summary": "{\n  \"name\": \"music_data\",\n  \"rows\": 18,\n  \"fields\": [\n    {\n      \"column\": \"age\",\n      \"properties\": {\n        \"dtype\": \"number\",\n        \"std\": 5,\n        \"min\": 20,\n        \"max\": 37,\n        \"num_unique_values\": 13,\n        \"samples\": [\n          34,\n          21,\n          20\n        ],\n        \"semantic_type\": \"\",\n        \"description\": \"\"\n      }\n    },\n    {\n      \"column\": \"gender\",\n      \"properties\": {\n        \"dtype\": \"number\",\n        \"std\": 0,\n        \"min\": 0,\n        \"max\": 1,\n        \"num_unique_values\": 2,\n        \"samples\": [\n          0,\n          1\n        ],\n        \"semantic_type\": \"\",\n        \"description\": \"\"\n      }\n    },\n    {\n      \"column\": \"genre\",\n      \"properties\": {\n        \"dtype\": \"category\",\n        \"num_unique_values\": 5,\n        \"samples\": [\n          \"Jazz\",\n          \"Acoustic\"\n        ],\n        \"semantic_type\": \"\",\n        \"description\": \"\"\n      }\n    }\n  ]\n}"
            }
          },
          "metadata": {},
          "execution_count": 2
        }
      ]
    },
    {
      "cell_type": "markdown",
      "source": [
        "#### Preparing data"
      ],
      "metadata": {
        "id": "PyhzSUagRfm7"
      }
    },
    {
      "cell_type": "markdown",
      "source": [
        "The dataset doesn't contain any duplicates or null values so is usuable. But, we need to split it into input table and output table using **drop()**."
      ],
      "metadata": {
        "id": "Tn7isHhMSQAj"
      }
    },
    {
      "cell_type": "code",
      "source": [
        "x = music_data.drop(columns=['genre'])\n",
        "y = music_data['genre']\n"
      ],
      "metadata": {
        "collapsed": true,
        "id": "sR-rO1yaTVlr"
      },
      "execution_count": 3,
      "outputs": []
    },
    {
      "cell_type": "markdown",
      "source": [
        "#### Learning and predicting"
      ],
      "metadata": {
        "id": "m1aQwAh_UR5q"
      }
    },
    {
      "cell_type": "markdown",
      "source": [
        "Building a machine learning model using an algorithm called **Decision tree**. We do not have to explicitly programme these algorithms as they are already present in the libraries like scikit-learn."
      ],
      "metadata": {
        "id": "Ss2nf9xvUhch"
      }
    },
    {
      "cell_type": "code",
      "source": [
        "from sklearn.tree import DecisionTreeClassifier\n",
        "model = DecisionTreeClassifier()\n",
        "model.fit(x, y)\n",
        "predictions = model.predict([ [21, 1], [22, 0] ])\n",
        "predictions"
      ],
      "metadata": {
        "id": "z3Qk57dvUV9R",
        "colab": {
          "base_uri": "https://localhost:8080/"
        },
        "outputId": "343757df-4a63-4ec6-f3dc-a30d910614bc"
      },
      "execution_count": 4,
      "outputs": [
        {
          "output_type": "stream",
          "name": "stderr",
          "text": [
            "/usr/local/lib/python3.11/dist-packages/sklearn/utils/validation.py:2739: UserWarning: X does not have valid feature names, but DecisionTreeClassifier was fitted with feature names\n",
            "  warnings.warn(\n"
          ]
        },
        {
          "output_type": "execute_result",
          "data": {
            "text/plain": [
              "array(['HipHop', 'Dance'], dtype=object)"
            ]
          },
          "metadata": {},
          "execution_count": 4
        }
      ]
    },
    {
      "cell_type": "markdown",
      "source": [
        "*sklearn* is the **package**, *.tree* is the **module** and *DecisionTreeClassifier*\n",
        "is the **class** that implements the decision tree algorithm."
      ],
      "metadata": {
        "id": "GRaQbkYTY7aY"
      }
    },
    {
      "cell_type": "markdown",
      "source": [
        "#### Calculate the accuracy"
      ],
      "metadata": {
        "id": "jF4XttlEZ8OQ"
      }
    },
    {
      "cell_type": "markdown",
      "source": [
        "Right now, we are passing the entire data for training the dataset **model.fit(X, Y)** and using two samples to make predictions i.e., [ [21,1], [22,0] ]. This is not enough to calculate the accuracy."
      ],
      "metadata": {
        "id": "jDBjIEByaORK"
      }
    },
    {
      "cell_type": "code",
      "source": [
        "from sklearn.model_selection import train_test_split\n",
        "from sklearn.metrics import accuracy_score\n",
        "\n",
        "x = music_data.drop(columns=['genre'])\n",
        "y = music_data['genre']\n",
        "x_train, x_test, y_train, y_test = train_test_split(x, y, test_size=0.2)\n",
        "\n",
        "model.fit(x_train, y_train)\n",
        "predictions = model.predict(x_test)\n",
        "\n",
        "score = accuracy_score(y_test, predictions)\n",
        "score"
      ],
      "metadata": {
        "id": "KN268NwZaEsA",
        "colab": {
          "base_uri": "https://localhost:8080/"
        },
        "outputId": "837e989d-b028-4e4f-cf1d-717dcabd840a"
      },
      "execution_count": 5,
      "outputs": [
        {
          "output_type": "execute_result",
          "data": {
            "text/plain": [
              "1.0"
            ]
          },
          "metadata": {},
          "execution_count": 5
        }
      ]
    },
    {
      "cell_type": "markdown",
      "source": [
        "train_test_split(x, y, test_size=0.2) returns **a tuple** and can be unpacked into x_train, x_test, y_train, y_test (*4 variables*). First two variables are the input sets and the other two are the output sets for training and testing respectively.\n",
        "Instead of passing the entire dataset, we *pass only the training dataset model*.fit(x_train, y_train).\n",
        "The accuracy score ranges from 0 -> 1. Running it different times will give different score as it **randomly picks** data for training and testing.\n"
      ],
      "metadata": {
        "id": "tXq4Xxw0eVJY"
      }
    },
    {
      "cell_type": "code",
      "source": [
        "x_train, x_test, y_train, y_test = train_test_split(x, y, test_size=0.8)\n",
        "\n",
        "model.fit(x_train, y_train)\n",
        "predictions = model.predict(x_test)\n",
        "\n",
        "score = accuracy_score(y_test, predictions)\n",
        "score"
      ],
      "metadata": {
        "id": "5SSP1bfBggQH",
        "colab": {
          "base_uri": "https://localhost:8080/"
        },
        "outputId": "a73dabb3-05cb-40a4-eee3-d7ac20c22a24"
      },
      "execution_count": 6,
      "outputs": [
        {
          "output_type": "execute_result",
          "data": {
            "text/plain": [
              "0.3333333333333333"
            ]
          },
          "metadata": {},
          "execution_count": 6
        }
      ]
    },
    {
      "cell_type": "markdown",
      "source": [
        "The score is pretty bad when test_size is changed to **0.8** as there is very little data to train the model. The more data we give the model and the more cleaner it is, the better the results are."
      ],
      "metadata": {
        "id": "IaKj-jYpg0E4"
      }
    },
    {
      "cell_type": "markdown",
      "source": [
        "### Persisting models & Visualizing decision tree\n"
      ],
      "metadata": {
        "id": "rwxdgaIpvick"
      }
    },
    {
      "cell_type": "markdown",
      "source": [
        "We import our dataset, create a model, train it and then ask it to make predictions. Now, the piece of code that we wrote above is not what we want to run every time we have a new user nor we want to make recommendations to an existing user. This is because training a model can sometimes be really time consuming. In this example, we're dealing with a very small dataset that has only 20 records but in real applications we might have a dataset with thousands or millions of samples training a model for that might take seconds, minutes or even hours so that is why model persistence is important. Once in a while we build and train our model and then we'll save it to a file. Now next time we want to make predictions we simply load the model from the file and ask it to make predictions that model is already trained we don't need to retrain it, it's like an intelligent person."
      ],
      "metadata": {
        "id": "XurWfA7ZwNAt"
      }
    },
    {
      "cell_type": "code",
      "source": [
        "!pip install joblib"
      ],
      "metadata": {
        "colab": {
          "base_uri": "https://localhost:8080/"
        },
        "id": "SXpWGXc75koD",
        "outputId": "2404383e-442d-4d78-a31f-54497225dee5"
      },
      "execution_count": 7,
      "outputs": [
        {
          "output_type": "stream",
          "name": "stdout",
          "text": [
            "Requirement already satisfied: joblib in /usr/local/lib/python3.11/dist-packages (1.4.2)\n"
          ]
        }
      ]
    },
    {
      "cell_type": "code",
      "source": [
        "import pandas as pd\n",
        "from sklearn.tree import DecisionTreeClassifier\n",
        "import joblib\n",
        "\n",
        "music_data = pd.read_csv('music.csv')\n",
        "x = music_data.drop(columns=['genre'])\n",
        "y = music_data['genre']\n",
        "\n",
        "model = DecisionTreeClassifier()\n",
        "model.fit(x, y)\n",
        "joblib.dump(model, 'music-recommender.joblib')"
      ],
      "metadata": {
        "colab": {
          "base_uri": "https://localhost:8080/"
        },
        "id": "La6e-DxWvo7c",
        "outputId": "ed1238a0-4f89-46ca-dba3-7c73281b4f84"
      },
      "execution_count": 9,
      "outputs": [
        {
          "output_type": "execute_result",
          "data": {
            "text/plain": [
              "['music-recommender.joblib']"
            ]
          },
          "metadata": {},
          "execution_count": 9
        }
      ]
    },
    {
      "cell_type": "markdown",
      "source": [
        "**joblib** has methods of saving and loading models. Usually, While working on a jupyter notebook, below sysntax is used.\n",
        "\n",
        "\n",
        "```\n",
        "from sklearn.externals import joblib\n",
        "model = ... #trained model\n",
        "model = joblib.load('model_name.joblib') #creates a file and loads at the same time\n",
        "predictions = model.predict([ [21,1] ])\n",
        "predictions\n",
        "```\n",
        "\n",
        "But for google colab,\n",
        "\n",
        "\n",
        "```\n",
        "import joblib\n",
        "joblib.dump(model, 'file_path') #save the file in the drive\n",
        "model = joblib.load('file_path') #load the file\n",
        "```\n",
        "\n"
      ],
      "metadata": {
        "id": "Zsxge--U2ANr"
      }
    },
    {
      "cell_type": "code",
      "source": [
        "model = joblib.load('music-recommender.joblib')\n",
        "predictions = model.predict([ [30,1] ])\n",
        "predictions"
      ],
      "metadata": {
        "colab": {
          "base_uri": "https://localhost:8080/"
        },
        "id": "h_8Irfy4DwJo",
        "outputId": "85664fe6-b5ec-474b-98a5-678b23653fd6"
      },
      "execution_count": 11,
      "outputs": [
        {
          "output_type": "stream",
          "name": "stderr",
          "text": [
            "/usr/local/lib/python3.11/dist-packages/sklearn/utils/validation.py:2739: UserWarning: X does not have valid feature names, but DecisionTreeClassifier was fitted with feature names\n",
            "  warnings.warn(\n"
          ]
        },
        {
          "output_type": "execute_result",
          "data": {
            "text/plain": [
              "array(['Jazz'], dtype=object)"
            ]
          },
          "metadata": {},
          "execution_count": 11
        }
      ]
    },
    {
      "cell_type": "code",
      "source": [
        "#Visualize decision tree\n",
        "from sklearn import tree\n",
        "import graphviz\n",
        "\n",
        "dot_data = tree.export_graphviz(model, out_file=None, feature_names=['age', 'gender'],\n",
        "                                class_names=sorted(y.unique()),\n",
        "                                label='all', rounded=True, filled=True, fontname=\"monaco\")\n",
        "graph = graphviz.Source(dot_data)\n",
        "graph"
      ],
      "metadata": {
        "colab": {
          "base_uri": "https://localhost:8080/",
          "height": 599
        },
        "id": "QGWpDlWTCOOa",
        "outputId": "ed32b96a-05ff-4f49-c998-4d8e3531b8cc"
      },
      "execution_count": 12,
      "outputs": [
        {
          "output_type": "execute_result",
          "data": {
            "image/svg+xml": "<?xml version=\"1.0\" encoding=\"UTF-8\" standalone=\"no\"?>\n<!DOCTYPE svg PUBLIC \"-//W3C//DTD SVG 1.1//EN\"\n \"http://www.w3.org/Graphics/SVG/1.1/DTD/svg11.dtd\">\n<!-- Generated by graphviz version 2.43.0 (0)\n -->\n<!-- Title: Tree Pages: 1 -->\n<svg width=\"886pt\" height=\"433pt\"\n viewBox=\"0.00 0.00 886.00 433.00\" xmlns=\"http://www.w3.org/2000/svg\" xmlns:xlink=\"http://www.w3.org/1999/xlink\">\n<g id=\"graph0\" class=\"graph\" transform=\"scale(1 1) rotate(0) translate(4 429)\">\n<title>Tree</title>\n<polygon fill=\"white\" stroke=\"transparent\" points=\"-4,4 -4,-429 882,-429 882,4 -4,4\"/>\n<!-- 0 -->\n<g id=\"node1\" class=\"node\">\n<title>0</title>\n<path fill=\"#e5fad7\" stroke=\"black\" d=\"M642,-425C642,-425 460,-425 460,-425 454,-425 448,-419 448,-413 448,-413 448,-354 448,-354 448,-348 454,-342 460,-342 460,-342 642,-342 642,-342 648,-342 654,-348 654,-354 654,-354 654,-413 654,-413 654,-419 648,-425 642,-425\"/>\n<text text-anchor=\"middle\" x=\"551\" y=\"-409.8\" font-family=\"monaco\" font-size=\"14.00\">age &lt;= 30.5</text>\n<text text-anchor=\"middle\" x=\"551\" y=\"-394.8\" font-family=\"monaco\" font-size=\"14.00\">gini = 0.778</text>\n<text text-anchor=\"middle\" x=\"551\" y=\"-379.8\" font-family=\"monaco\" font-size=\"14.00\">samples = 18</text>\n<text text-anchor=\"middle\" x=\"551\" y=\"-364.8\" font-family=\"monaco\" font-size=\"14.00\">value = [3, 6, 3, 3, 3]</text>\n<text text-anchor=\"middle\" x=\"551\" y=\"-349.8\" font-family=\"monaco\" font-size=\"14.00\">class = Classical</text>\n</g>\n<!-- 1 -->\n<g id=\"node2\" class=\"node\">\n<title>1</title>\n<path fill=\"#ffffff\" stroke=\"black\" d=\"M530,-306C530,-306 348,-306 348,-306 342,-306 336,-300 336,-294 336,-294 336,-235 336,-235 336,-229 342,-223 348,-223 348,-223 530,-223 530,-223 536,-223 542,-229 542,-235 542,-235 542,-294 542,-294 542,-300 536,-306 530,-306\"/>\n<text text-anchor=\"middle\" x=\"439\" y=\"-290.8\" font-family=\"monaco\" font-size=\"14.00\">gender &lt;= 0.5</text>\n<text text-anchor=\"middle\" x=\"439\" y=\"-275.8\" font-family=\"monaco\" font-size=\"14.00\">gini = 0.75</text>\n<text text-anchor=\"middle\" x=\"439\" y=\"-260.8\" font-family=\"monaco\" font-size=\"14.00\">samples = 12</text>\n<text text-anchor=\"middle\" x=\"439\" y=\"-245.8\" font-family=\"monaco\" font-size=\"14.00\">value = [3, 0, 3, 3, 3]</text>\n<text text-anchor=\"middle\" x=\"439\" y=\"-230.8\" font-family=\"monaco\" font-size=\"14.00\">class = Acoustic</text>\n</g>\n<!-- 0&#45;&gt;1 -->\n<g id=\"edge1\" class=\"edge\">\n<title>0&#45;&gt;1</title>\n<path fill=\"none\" stroke=\"black\" d=\"M512.14,-341.91C503.37,-332.74 493.97,-322.93 484.94,-313.49\"/>\n<polygon fill=\"black\" stroke=\"black\" points=\"487.23,-310.82 477.79,-306.02 482.18,-315.66 487.23,-310.82\"/>\n<text text-anchor=\"middle\" x=\"477.24\" y=\"-327.31\" font-family=\"monaco\" font-size=\"14.00\">True</text>\n</g>\n<!-- 8 -->\n<g id=\"node9\" class=\"node\">\n<title>8</title>\n<path fill=\"#7be539\" stroke=\"black\" d=\"M754,-298.5C754,-298.5 572,-298.5 572,-298.5 566,-298.5 560,-292.5 560,-286.5 560,-286.5 560,-242.5 560,-242.5 560,-236.5 566,-230.5 572,-230.5 572,-230.5 754,-230.5 754,-230.5 760,-230.5 766,-236.5 766,-242.5 766,-242.5 766,-286.5 766,-286.5 766,-292.5 760,-298.5 754,-298.5\"/>\n<text text-anchor=\"middle\" x=\"663\" y=\"-283.3\" font-family=\"monaco\" font-size=\"14.00\">gini = 0.0</text>\n<text text-anchor=\"middle\" x=\"663\" y=\"-268.3\" font-family=\"monaco\" font-size=\"14.00\">samples = 6</text>\n<text text-anchor=\"middle\" x=\"663\" y=\"-253.3\" font-family=\"monaco\" font-size=\"14.00\">value = [0, 6, 0, 0, 0]</text>\n<text text-anchor=\"middle\" x=\"663\" y=\"-238.3\" font-family=\"monaco\" font-size=\"14.00\">class = Classical</text>\n</g>\n<!-- 0&#45;&gt;8 -->\n<g id=\"edge8\" class=\"edge\">\n<title>0&#45;&gt;8</title>\n<path fill=\"none\" stroke=\"black\" d=\"M589.86,-341.91C600.95,-330.32 613.03,-317.7 624.12,-306.11\"/>\n<polygon fill=\"black\" stroke=\"black\" points=\"626.86,-308.31 631.25,-298.67 621.81,-303.47 626.86,-308.31\"/>\n<text text-anchor=\"middle\" x=\"631.8\" y=\"-319.96\" font-family=\"monaco\" font-size=\"14.00\">False</text>\n</g>\n<!-- 2 -->\n<g id=\"node3\" class=\"node\">\n<title>2</title>\n<path fill=\"#ffffff\" stroke=\"black\" d=\"M418,-187C418,-187 236,-187 236,-187 230,-187 224,-181 224,-175 224,-175 224,-116 224,-116 224,-110 230,-104 236,-104 236,-104 418,-104 418,-104 424,-104 430,-110 430,-116 430,-116 430,-175 430,-175 430,-181 424,-187 418,-187\"/>\n<text text-anchor=\"middle\" x=\"327\" y=\"-171.8\" font-family=\"monaco\" font-size=\"14.00\">age &lt;= 25.5</text>\n<text text-anchor=\"middle\" x=\"327\" y=\"-156.8\" font-family=\"monaco\" font-size=\"14.00\">gini = 0.5</text>\n<text text-anchor=\"middle\" x=\"327\" y=\"-141.8\" font-family=\"monaco\" font-size=\"14.00\">samples = 6</text>\n<text text-anchor=\"middle\" x=\"327\" y=\"-126.8\" font-family=\"monaco\" font-size=\"14.00\">value = [3, 0, 3, 0, 0]</text>\n<text text-anchor=\"middle\" x=\"327\" y=\"-111.8\" font-family=\"monaco\" font-size=\"14.00\">class = Acoustic</text>\n</g>\n<!-- 1&#45;&gt;2 -->\n<g id=\"edge2\" class=\"edge\">\n<title>1&#45;&gt;2</title>\n<path fill=\"none\" stroke=\"black\" d=\"M400.14,-222.91C391.37,-213.74 381.97,-203.93 372.94,-194.49\"/>\n<polygon fill=\"black\" stroke=\"black\" points=\"375.23,-191.82 365.79,-187.02 370.18,-196.66 375.23,-191.82\"/>\n</g>\n<!-- 5 -->\n<g id=\"node6\" class=\"node\">\n<title>5</title>\n<path fill=\"#ffffff\" stroke=\"black\" d=\"M642,-187C642,-187 460,-187 460,-187 454,-187 448,-181 448,-175 448,-175 448,-116 448,-116 448,-110 454,-104 460,-104 460,-104 642,-104 642,-104 648,-104 654,-110 654,-116 654,-116 654,-175 654,-175 654,-181 648,-187 642,-187\"/>\n<text text-anchor=\"middle\" x=\"551\" y=\"-171.8\" font-family=\"monaco\" font-size=\"14.00\">age &lt;= 25.5</text>\n<text text-anchor=\"middle\" x=\"551\" y=\"-156.8\" font-family=\"monaco\" font-size=\"14.00\">gini = 0.5</text>\n<text text-anchor=\"middle\" x=\"551\" y=\"-141.8\" font-family=\"monaco\" font-size=\"14.00\">samples = 6</text>\n<text text-anchor=\"middle\" x=\"551\" y=\"-126.8\" font-family=\"monaco\" font-size=\"14.00\">value = [0, 0, 0, 3, 3]</text>\n<text text-anchor=\"middle\" x=\"551\" y=\"-111.8\" font-family=\"monaco\" font-size=\"14.00\">class = HipHop</text>\n</g>\n<!-- 1&#45;&gt;5 -->\n<g id=\"edge5\" class=\"edge\">\n<title>1&#45;&gt;5</title>\n<path fill=\"none\" stroke=\"black\" d=\"M477.86,-222.91C486.63,-213.74 496.03,-203.93 505.06,-194.49\"/>\n<polygon fill=\"black\" stroke=\"black\" points=\"507.82,-196.66 512.21,-187.02 502.77,-191.82 507.82,-196.66\"/>\n</g>\n<!-- 3 -->\n<g id=\"node4\" class=\"node\">\n<title>3</title>\n<path fill=\"#39e5c5\" stroke=\"black\" d=\"M194,-68C194,-68 12,-68 12,-68 6,-68 0,-62 0,-56 0,-56 0,-12 0,-12 0,-6 6,0 12,0 12,0 194,0 194,0 200,0 206,-6 206,-12 206,-12 206,-56 206,-56 206,-62 200,-68 194,-68\"/>\n<text text-anchor=\"middle\" x=\"103\" y=\"-52.8\" font-family=\"monaco\" font-size=\"14.00\">gini = 0.0</text>\n<text text-anchor=\"middle\" x=\"103\" y=\"-37.8\" font-family=\"monaco\" font-size=\"14.00\">samples = 3</text>\n<text text-anchor=\"middle\" x=\"103\" y=\"-22.8\" font-family=\"monaco\" font-size=\"14.00\">value = [0, 0, 3, 0, 0]</text>\n<text text-anchor=\"middle\" x=\"103\" y=\"-7.8\" font-family=\"monaco\" font-size=\"14.00\">class = Dance</text>\n</g>\n<!-- 2&#45;&gt;3 -->\n<g id=\"edge3\" class=\"edge\">\n<title>2&#45;&gt;3</title>\n<path fill=\"none\" stroke=\"black\" d=\"M243.91,-103.88C222.87,-93.6 200.37,-82.6 179.66,-72.47\"/>\n<polygon fill=\"black\" stroke=\"black\" points=\"181.12,-69.29 170.6,-68.04 178.04,-75.58 181.12,-69.29\"/>\n</g>\n<!-- 4 -->\n<g id=\"node5\" class=\"node\">\n<title>4</title>\n<path fill=\"#e58139\" stroke=\"black\" d=\"M418,-68C418,-68 236,-68 236,-68 230,-68 224,-62 224,-56 224,-56 224,-12 224,-12 224,-6 230,0 236,0 236,0 418,0 418,0 424,0 430,-6 430,-12 430,-12 430,-56 430,-56 430,-62 424,-68 418,-68\"/>\n<text text-anchor=\"middle\" x=\"327\" y=\"-52.8\" font-family=\"monaco\" font-size=\"14.00\">gini = 0.0</text>\n<text text-anchor=\"middle\" x=\"327\" y=\"-37.8\" font-family=\"monaco\" font-size=\"14.00\">samples = 3</text>\n<text text-anchor=\"middle\" x=\"327\" y=\"-22.8\" font-family=\"monaco\" font-size=\"14.00\">value = [3, 0, 0, 0, 0]</text>\n<text text-anchor=\"middle\" x=\"327\" y=\"-7.8\" font-family=\"monaco\" font-size=\"14.00\">class = Acoustic</text>\n</g>\n<!-- 2&#45;&gt;4 -->\n<g id=\"edge4\" class=\"edge\">\n<title>2&#45;&gt;4</title>\n<path fill=\"none\" stroke=\"black\" d=\"M327,-103.73C327,-95.52 327,-86.86 327,-78.56\"/>\n<polygon fill=\"black\" stroke=\"black\" points=\"330.5,-78.3 327,-68.3 323.5,-78.3 330.5,-78.3\"/>\n</g>\n<!-- 6 -->\n<g id=\"node7\" class=\"node\">\n<title>6</title>\n<path fill=\"#3c39e5\" stroke=\"black\" d=\"M642,-68C642,-68 460,-68 460,-68 454,-68 448,-62 448,-56 448,-56 448,-12 448,-12 448,-6 454,0 460,0 460,0 642,0 642,0 648,0 654,-6 654,-12 654,-12 654,-56 654,-56 654,-62 648,-68 642,-68\"/>\n<text text-anchor=\"middle\" x=\"551\" y=\"-52.8\" font-family=\"monaco\" font-size=\"14.00\">gini = 0.0</text>\n<text text-anchor=\"middle\" x=\"551\" y=\"-37.8\" font-family=\"monaco\" font-size=\"14.00\">samples = 3</text>\n<text text-anchor=\"middle\" x=\"551\" y=\"-22.8\" font-family=\"monaco\" font-size=\"14.00\">value = [0, 0, 0, 3, 0]</text>\n<text text-anchor=\"middle\" x=\"551\" y=\"-7.8\" font-family=\"monaco\" font-size=\"14.00\">class = HipHop</text>\n</g>\n<!-- 5&#45;&gt;6 -->\n<g id=\"edge6\" class=\"edge\">\n<title>5&#45;&gt;6</title>\n<path fill=\"none\" stroke=\"black\" d=\"M551,-103.73C551,-95.52 551,-86.86 551,-78.56\"/>\n<polygon fill=\"black\" stroke=\"black\" points=\"554.5,-78.3 551,-68.3 547.5,-78.3 554.5,-78.3\"/>\n</g>\n<!-- 7 -->\n<g id=\"node8\" class=\"node\">\n<title>7</title>\n<path fill=\"#e539c0\" stroke=\"black\" d=\"M866,-68C866,-68 684,-68 684,-68 678,-68 672,-62 672,-56 672,-56 672,-12 672,-12 672,-6 678,0 684,0 684,0 866,0 866,0 872,0 878,-6 878,-12 878,-12 878,-56 878,-56 878,-62 872,-68 866,-68\"/>\n<text text-anchor=\"middle\" x=\"775\" y=\"-52.8\" font-family=\"monaco\" font-size=\"14.00\">gini = 0.0</text>\n<text text-anchor=\"middle\" x=\"775\" y=\"-37.8\" font-family=\"monaco\" font-size=\"14.00\">samples = 3</text>\n<text text-anchor=\"middle\" x=\"775\" y=\"-22.8\" font-family=\"monaco\" font-size=\"14.00\">value = [0, 0, 0, 0, 3]</text>\n<text text-anchor=\"middle\" x=\"775\" y=\"-7.8\" font-family=\"monaco\" font-size=\"14.00\">class = Jazz</text>\n</g>\n<!-- 5&#45;&gt;7 -->\n<g id=\"edge7\" class=\"edge\">\n<title>5&#45;&gt;7</title>\n<path fill=\"none\" stroke=\"black\" d=\"M634.09,-103.88C655.13,-93.6 677.63,-82.6 698.34,-72.47\"/>\n<polygon fill=\"black\" stroke=\"black\" points=\"699.96,-75.58 707.4,-68.04 696.88,-69.29 699.96,-75.58\"/>\n</g>\n</g>\n</svg>\n",
            "text/plain": [
              "<graphviz.sources.Source at 0x78ff0a3cab50>"
            ]
          },
          "metadata": {},
          "execution_count": 12
        }
      ]
    }
  ]
}